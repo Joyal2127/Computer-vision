{
  "nbformat": 4,
  "nbformat_minor": 0,
  "metadata": {
    "colab": {
      "provenance": [],
      "authorship_tag": "ABX9TyNu2s4esSRSWCvALtj0AvGk",
      "include_colab_link": true
    },
    "kernelspec": {
      "name": "python3",
      "display_name": "Python 3"
    },
    "language_info": {
      "name": "python"
    }
  },
  "cells": [
    {
      "cell_type": "markdown",
      "metadata": {
        "id": "view-in-github",
        "colab_type": "text"
      },
      "source": [
        "<a href=\"https://colab.research.google.com/github/Joyal2127/Computer-vision/blob/main/Tensor2.ipynb\" target=\"_parent\"><img src=\"https://colab.research.google.com/assets/colab-badge.svg\" alt=\"Open In Colab\"/></a>"
      ]
    },
    {
      "cell_type": "code",
      "execution_count": 6,
      "metadata": {
        "id": "1t55MrM23WDa",
        "colab": {
          "base_uri": "https://localhost:8080/"
        },
        "outputId": "0a5d79c0-ed34-4ad1-edac-2f6ba48acf7e"
      },
      "outputs": [
        {
          "output_type": "execute_result",
          "data": {
            "text/plain": [
              "torch.float32"
            ]
          },
          "metadata": {},
          "execution_count": 6
        }
      ],
      "source": [
        "import torch\n",
        "int_tensor = torch.tensor([6,7,8,8,9,10], dtype=torch.int16)\n",
        "int_tensor= int_tensor.float()\n",
        "int_tensor.dtype"
      ]
    }
  ]
}